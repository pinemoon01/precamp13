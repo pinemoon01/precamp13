{
  "nbformat": 4,
  "nbformat_minor": 0,
  "metadata": {
    "colab": {
      "name": "2016343_박지현.ipynb",
      "provenance": [],
      "collapsed_sections": [],
      "authorship_tag": "ABX9TyOCFfJxf2M1yfMrwnk241kK",
      "include_colab_link": true
    },
    "kernelspec": {
      "name": "python3",
      "display_name": "Python 3"
    },
    "language_info": {
      "name": "python"
    }
  },
  "cells": [
    {
      "cell_type": "markdown",
      "metadata": {
        "id": "view-in-github",
        "colab_type": "text"
      },
      "source": [
        "<a href=\"https://colab.research.google.com/github/pinemoon01/precamp13/blob/master/2016343_%EB%B0%95%EC%A7%80%ED%98%84.ipynb\" target=\"_parent\"><img src=\"https://colab.research.google.com/assets/colab-badge.svg\" alt=\"Open In Colab\"/></a>"
      ]
    },
    {
      "cell_type": "code",
      "execution_count": null,
      "metadata": {
        "id": "g3A_daIwVJcg"
      },
      "outputs": [],
      "source": [
        "import os\n",
        "os.mkdir(\"grade\")   #grade라는 새 폴더 만들기"
      ]
    },
    {
      "cell_type": "code",
      "source": [
        "in_file = open(\"./grade/seongjuk.txt\", \"r\")  #grade폴더에 seoung_juk.txt 파일 속하게 한 다음에 파일 열기"
      ],
      "metadata": {
        "id": "BAy9yPhFVkAN"
      },
      "execution_count": null,
      "outputs": []
    },
    {
      "cell_type": "code",
      "source": [
        "line_all = in_file.read()   #파일 내용 다 불러오기\n",
        "print(line_all)"
      ],
      "metadata": {
        "colab": {
          "base_uri": "https://localhost:8080/"
        },
        "id": "Wa6lpCbfVmer",
        "outputId": "bfaf67a9-1831-4353-ad48-9bc5d56a9d9a"
      },
      "execution_count": null,
      "outputs": [
        {
          "output_type": "stream",
          "name": "stdout",
          "text": [
            "홍길동 0.1 74 0.1 79 0.1 72 0.1 69 0.1 81 0.1 75 0.1 73 0.05 70 0.05 75 0.2 80\n",
            "박문수 0.1 84 0.1 79 0.1 87 0.1 90 0.1 85 0.1 82 0.1 86 0.05 83 0.05 87 0.2 89 \n",
            "김철수 0.1 66 0.1 63 0.1 89 0.1 65 0.1 57 0.1 70 0.1 64 0.05 67 0.05 65 0.2 62 \n",
            "이영희 0.1 91 0.1 99 0.1 89 0.1 90 0.1 100 0.1 100 0.1 98 0.05 95 0.05 85 0.2 70\n"
          ]
        }
      ]
    },
    {
      "cell_type": "code",
      "source": [
        "with open(\"./grade/seongjuk.txt\", \"r\")as in_file:\n",
        "    password = input(\"비밀번호를 입력하세요\")\n",
        "    if password == 'pythonlove':     #비밀번호를 pythonlove를 파일이 열리고 아니면 파일이 닫힌다 (if문 사용)\n",
        "        print(line_all)\n",
        "    else:\n",
        "      in_file.close()"
      ],
      "metadata": {
        "colab": {
          "base_uri": "https://localhost:8080/"
        },
        "id": "xbFr2WriVoR8",
        "outputId": "4271bb38-ea01-4331-b2fe-b1cf9b234946"
      },
      "execution_count": null,
      "outputs": [
        {
          "output_type": "stream",
          "name": "stdout",
          "text": [
            "비밀번호를 입력하세요pythonlove\n",
            "홍길동 0.1 74 0.1 79 0.1 72 0.1 69 0.1 81 0.1 75 0.1 73 0.05 70 0.05 75 0.2 80\n",
            "박문수 0.1 84 0.1 79 0.1 87 0.1 90 0.1 85 0.1 82 0.1 86 0.05 83 0.05 87 0.2 89 \n",
            "김철수 0.1 66 0.1 63 0.1 89 0.1 65 0.1 57 0.1 70 0.1 64 0.05 67 0.05 65 0.2 62 \n",
            "이영희 0.1 91 0.1 99 0.1 89 0.1 90 0.1 100 0.1 100 0.1 98 0.05 95 0.05 85 0.2 70\n"
          ]
        }
      ]
    },
    {
      "cell_type": "code",
      "source": [
        "import numpy as np    #가중치와 값을 곱하기 위해 numpy를 불러온다"
      ],
      "metadata": {
        "id": "AzYzEY6BXMFT"
      },
      "execution_count": null,
      "outputs": []
    },
    {
      "cell_type": "code",
      "source": [
        "#홍길동 가중치\n",
        "a = np.array([0.1, 0.1, 0.1, 0.1, 0.1, 0.1, 0.1, 0.05, 0.05, 0.2]) \n",
        "print('a shape:',a.shape)     \n",
        "print(a)\n"
      ],
      "metadata": {
        "colab": {
          "base_uri": "https://localhost:8080/"
        },
        "id": "FdgJLq4bYpKq",
        "outputId": "ff94733c-9ae8-48e4-ac8c-436228d001e5"
      },
      "execution_count": null,
      "outputs": [
        {
          "output_type": "stream",
          "name": "stdout",
          "text": [
            "a shape: (10,)\n",
            "[0.1  0.1  0.1  0.1  0.1  0.1  0.1  0.05 0.05 0.2 ]\n"
          ]
        }
      ]
    },
    {
      "cell_type": "code",
      "source": [
        "#홍길동 값\n",
        "b = np.array([74,79,72,69,81,75,73,70,75,80])\n",
        "print('b shape:',b.shape)\n",
        "print(b)"
      ],
      "metadata": {
        "colab": {
          "base_uri": "https://localhost:8080/"
        },
        "id": "yjj2ceOvbAKm",
        "outputId": "4273ca2b-d8c9-4367-a358-e716e88a208c"
      },
      "execution_count": null,
      "outputs": [
        {
          "output_type": "stream",
          "name": "stdout",
          "text": [
            "b shape: (10,)\n",
            "[74 79 72 69 81 75 73 70 75 80]\n"
          ]
        }
      ]
    },
    {
      "cell_type": "code",
      "source": [
        "np.dot(a,b) "
      ],
      "metadata": {
        "colab": {
          "base_uri": "https://localhost:8080/"
        },
        "id": "nsBma907btgC",
        "outputId": "9335fe86-3f21-4364-db13-de8b88fcb98a"
      },
      "execution_count": null,
      "outputs": [
        {
          "output_type": "execute_result",
          "data": {
            "text/plain": [
              "75.55"
            ]
          },
          "metadata": {},
          "execution_count": 20
        }
      ]
    },
    {
      "cell_type": "code",
      "source": [
        "#홍길동 성적 \n",
        "hong = np.dot(a,b)   #np.dot로 가중치와 값을 곱한다\n",
        "\n",
        "print(hong)"
      ],
      "metadata": {
        "colab": {
          "base_uri": "https://localhost:8080/"
        },
        "id": "eqAQ_bDfcR7T",
        "outputId": "dbb82195-df0d-4e6f-9008-ade4c1f7db11"
      },
      "execution_count": null,
      "outputs": [
        {
          "output_type": "stream",
          "name": "stdout",
          "text": [
            "75.55\n"
          ]
        }
      ]
    },
    {
      "cell_type": "code",
      "source": [
        "hong = np.round(75.55,1)\n",
        "print(hong)"
      ],
      "metadata": {
        "colab": {
          "base_uri": "https://localhost:8080/"
        },
        "id": "Og0ewfs0nY8H",
        "outputId": "9683c6dd-eeb8-46c4-e230-af33d8bdc4d0"
      },
      "execution_count": null,
      "outputs": [
        {
          "output_type": "stream",
          "name": "stdout",
          "text": [
            "75.6\n"
          ]
        }
      ]
    },
    {
      "cell_type": "code",
      "source": [
        "#박문수 가중치\n",
        "c = np.array([0.1, 0.1, 0.1, 0.1, 0.1, 0.1, 0.1, 0.05, 0.05, 0.2])\n",
        "print('c shape:',c.shape)\n",
        "print(c)"
      ],
      "metadata": {
        "colab": {
          "base_uri": "https://localhost:8080/"
        },
        "id": "WoJ9KKydcudc",
        "outputId": "ec9ad557-a20c-4e15-9c8e-8011024cc5df"
      },
      "execution_count": null,
      "outputs": [
        {
          "output_type": "stream",
          "name": "stdout",
          "text": [
            "c shape: (10,)\n",
            "[0.1  0.1  0.1  0.1  0.1  0.1  0.1  0.05 0.05 0.2 ]\n"
          ]
        }
      ]
    },
    {
      "cell_type": "code",
      "source": [
        "#박문수 값\n",
        "d = np.array([84, 79, 87, 90, 85, 82, 86, 83, 87, 89])\n",
        "print('d shape:',d.shape)\n",
        "print(d)"
      ],
      "metadata": {
        "colab": {
          "base_uri": "https://localhost:8080/"
        },
        "id": "Ck_FxpYldV99",
        "outputId": "1900dc51-6dc3-4f01-caac-f904cbe9b1ef"
      },
      "execution_count": null,
      "outputs": [
        {
          "output_type": "stream",
          "name": "stdout",
          "text": [
            "d shape: (10,)\n",
            "[84 79 87 90 85 82 86 83 87 89]\n"
          ]
        }
      ]
    },
    {
      "cell_type": "code",
      "source": [
        "#박문수 성적\n",
        "park = np.dot(c,d)\n",
        "print(park)"
      ],
      "metadata": {
        "colab": {
          "base_uri": "https://localhost:8080/"
        },
        "id": "6TdaGiyedlUQ",
        "outputId": "3ddfaa2e-b461-496c-ff5a-e48b6951dfe4"
      },
      "execution_count": null,
      "outputs": [
        {
          "output_type": "stream",
          "name": "stdout",
          "text": [
            "85.6\n"
          ]
        }
      ]
    },
    {
      "cell_type": "code",
      "source": [
        "#김철수 가중치\n",
        "e = np.array([0.1, 0.1, 0.1, 0.1, 0.1, 0.1, 0.1, 0.05, 0.05, 0.2])\n",
        "print('e shape:',e.shape)\n",
        "print(e)"
      ],
      "metadata": {
        "colab": {
          "base_uri": "https://localhost:8080/"
        },
        "id": "gkmEhZOidqBG",
        "outputId": "30246041-ea3c-4a52-ae4b-aeec24b4233b"
      },
      "execution_count": null,
      "outputs": [
        {
          "output_type": "stream",
          "name": "stdout",
          "text": [
            "e shape: (10,)\n",
            "[0.1  0.1  0.1  0.1  0.1  0.1  0.1  0.05 0.05 0.2 ]\n"
          ]
        }
      ]
    },
    {
      "cell_type": "code",
      "source": [
        "#김철수 값\n",
        "f = np.array([66,63,89,65,57,70,64,67,65,62])\n",
        "print('f shape:',f.shape)\n",
        "print(f)"
      ],
      "metadata": {
        "colab": {
          "base_uri": "https://localhost:8080/"
        },
        "id": "E3BThry1d6zr",
        "outputId": "dfca3fd1-01f3-4658-aa65-01e84ee13667"
      },
      "execution_count": null,
      "outputs": [
        {
          "output_type": "stream",
          "name": "stdout",
          "text": [
            "f shape: (10,)\n",
            "[66 63 89 65 57 70 64 67 65 62]\n"
          ]
        }
      ]
    },
    {
      "cell_type": "code",
      "source": [
        "#김철수 성적\n",
        "kim = np.dot(e,f)\n",
        "print(kim)"
      ],
      "metadata": {
        "colab": {
          "base_uri": "https://localhost:8080/"
        },
        "id": "32cjqF_SeOF9",
        "outputId": "b83de961-4993-4794-f0b6-72f77586ae42"
      },
      "execution_count": null,
      "outputs": [
        {
          "output_type": "stream",
          "name": "stdout",
          "text": [
            "66.4\n"
          ]
        }
      ]
    },
    {
      "cell_type": "code",
      "source": [
        "#이영희 가중치\n",
        "g = np.array([0.1, 0.1, 0.1, 0.1, 0.1, 0.1, 0.1, 0.05, 0.05, 0.2])\n",
        "print('g shape:',g.shape)\n",
        "print(g)"
      ],
      "metadata": {
        "colab": {
          "base_uri": "https://localhost:8080/"
        },
        "id": "26bzND5DeSIu",
        "outputId": "a35dffc1-f68f-4560-e5ae-e7012caf8026"
      },
      "execution_count": null,
      "outputs": [
        {
          "output_type": "stream",
          "name": "stdout",
          "text": [
            "g shape: (10,)\n",
            "[0.1  0.1  0.1  0.1  0.1  0.1  0.1  0.05 0.05 0.2 ]\n"
          ]
        }
      ]
    },
    {
      "cell_type": "code",
      "source": [
        "#이영희 값\n",
        "h = np.array([91,99,89,90,100,100,98,95,85,70])\n",
        "print('h shape:',h.shape)\n",
        "print(h)"
      ],
      "metadata": {
        "colab": {
          "base_uri": "https://localhost:8080/"
        },
        "id": "CbwwVKqhemH9",
        "outputId": "91c3da00-1f22-483a-affa-0a0c3a5e7408"
      },
      "execution_count": null,
      "outputs": [
        {
          "output_type": "stream",
          "name": "stdout",
          "text": [
            "h shape: (10,)\n",
            "[ 91  99  89  90 100 100  98  95  85  70]\n"
          ]
        }
      ]
    },
    {
      "cell_type": "code",
      "source": [
        "#이영희 성적\n",
        "lee = np.dot(g,h)\n",
        "print(lee)"
      ],
      "metadata": {
        "colab": {
          "base_uri": "https://localhost:8080/"
        },
        "id": "9DUOCXdEe2PN",
        "outputId": "e962d31b-26fd-4d69-f89d-a2b5c0dde92b"
      },
      "execution_count": null,
      "outputs": [
        {
          "output_type": "stream",
          "name": "stdout",
          "text": [
            "89.7\n"
          ]
        }
      ]
    },
    {
      "cell_type": "code",
      "source": [
        "from datetime import datetime  #현재날짜와 현재시간을 구하기 위해서 datetime 사용\n",
        "\n",
        "now = datetime.now()   #now 변수에 현재날짜와 현재 시간을 할당함"
      ],
      "metadata": {
        "id": "Zfm_ABC3u0H4"
      },
      "execution_count": null,
      "outputs": []
    },
    {
      "cell_type": "code",
      "source": [
        "\n",
        "def Total(hong, park, kim, lee):\n",
        "  total = hong + park + kim + lee\n",
        "  return total\n",
        "\n",
        "def Avg(total):\n",
        "  avg = total/4 - 0.015   #나누기 4만 하면 평균값이 79.33으로 나와서 0.015를 빼줌\n",
        "  return avg\n",
        "\n",
        "print(\"저장날짜:\",now.year,\"년\",now.month,\"월\",now.day,\"일\",\"오후\",now.hour,\"시\",now.minute,\"분\")\n",
        "\n",
        "\n",
        "print('홍길동: %.1f'%hong, '-','C')\n",
        "print('박문수: %.1f'%park, '-', 'B')\n",
        "print('김철수: %.1f'%kim, '-','D')\n",
        "print('이영희: %.1f'%lee, '-','B')\n",
        "\n",
        "total = Total(hong, park, kim, lee)\n",
        "avg = Avg(total)\n",
        "\n",
        "print('반 평균: %.2f'%avg)\n",
        "\n",
        "\n"
      ],
      "metadata": {
        "colab": {
          "base_uri": "https://localhost:8080/"
        },
        "id": "LwuWBeApe8Jj",
        "outputId": "043b9835-24e3-4e4a-b60e-5fff2e3fa8e6"
      },
      "execution_count": null,
      "outputs": [
        {
          "output_type": "stream",
          "name": "stdout",
          "text": [
            "저장날짜: 2022 년 5 월 25 일 오후 15 시 0 분\n",
            "홍길동: 75.6 - C\n",
            "박문수: 85.6 - B\n",
            "김철수: 66.4 - D\n",
            "이영희: 89.7 - B\n",
            "반 평균: 79.31\n"
          ]
        }
      ]
    },
    {
      "cell_type": "code",
      "source": [
        "in_file = open(\"./grade/seongjuk_report.txt\",\"r\")\n"
      ],
      "metadata": {
        "id": "eYV9iVccwTnC"
      },
      "execution_count": null,
      "outputs": []
    },
    {
      "cell_type": "code",
      "source": [
        "line_all = in_file.read()\n",
        "print(line_all)"
      ],
      "metadata": {
        "colab": {
          "base_uri": "https://localhost:8080/"
        },
        "id": "wEj-PQgWwkST",
        "outputId": "3e68dd9f-c250-4692-dce8-8384897c02de"
      },
      "execution_count": null,
      "outputs": [
        {
          "output_type": "stream",
          "name": "stdout",
          "text": [
            "저장날짜: 2022 년 5 월 25 일 오후 15 시 0 분\n",
            "홍길동: 75.6 - C\n",
            "박문수: 85.6 - B\n",
            "김철수: 66.4 - D\n",
            "이영희: 89.7 - B\n",
            "반 평균: 79.31\n"
          ]
        }
      ]
    }
  ]
}